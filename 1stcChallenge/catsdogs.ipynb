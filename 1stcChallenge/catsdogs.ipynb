{
 "metadata": {
  "language_info": {
   "codemirror_mode": {
    "name": "ipython",
    "version": 3
   },
   "file_extension": ".py",
   "mimetype": "text/x-python",
   "name": "python",
   "nbconvert_exporter": "python",
   "pygments_lexer": "ipython3",
   "version": "3.7.9-final"
  },
  "orig_nbformat": 2,
  "kernelspec": {
   "name": "python3",
   "display_name": "Python 3.7.9 64-bit ('tensorflow_gpuenv': conda)",
   "metadata": {
    "interpreter": {
     "hash": "b4475d159700ac7f63d83dbd0a06e80f15c08c0a62544dac6ddf2e61acd99b97"
    }
   }
  }
 },
 "nbformat": 4,
 "nbformat_minor": 2,
 "cells": [
  {
   "cell_type": "code",
   "execution_count": 5,
   "metadata": {},
   "outputs": [],
   "source": [
    "import glob\n",
    "import numpy as np\n",
    "import pandas as pd\n",
    "import os\n",
    "import shutil \n",
    "import matplotlib.pyplot as plt\n",
    "import cv2\n",
    "from keras.preprocessing.image import ImageDataGenerator, load_img, img_to_array, array_to_img\n",
    "%matplotlib inline"
   ]
  },
  {
   "cell_type": "code",
   "execution_count": 2,
   "metadata": {},
   "outputs": [
    {
     "output_type": "stream",
     "name": "stdout",
     "text": [
      "c:\\Users\\enric\\Downloads\\AN2DL-1st-Project\\kagglecatanddogs\\PetImages\n"
     ]
    },
    {
     "output_type": "execute_result",
     "data": {
      "text/plain": [
       "(0, 0)"
      ]
     },
     "metadata": {},
     "execution_count": 2
    }
   ],
   "source": [
    "files = os.getcwd()\n",
    "files = os.path.join(files, 'kagglecatanddogs')\n",
    "files = os.path.join(files, 'PetImages')\n",
    "print(files)\n",
    " \n",
    "files_cat = os.path.join(files, 'Cat') \n",
    "cat_files = [fn for fn in files_cat if 'Cat' in fn] \n",
    "files_dog = os.path.join(files, 'Dog')\n",
    "dog_files = [fn for fn in files_dog if 'Dog' in fn] \n",
    "len(cat_files), len(dog_files)"
   ]
  },
  {
   "cell_type": "code",
   "execution_count": 12,
   "metadata": {},
   "outputs": [
    {
     "output_type": "stream",
     "name": "stdout",
     "text": [
      "0\n"
     ]
    }
   ],
   "source": [
    "training_data = []\n",
    "Categories = [\"Dog\",\"Cat\"]\n",
    "dir = 'C:/Users/enric/Downloads/AN2DL-1st-Project/kagglecatsanddogs/PetImages'\n",
    "\n",
    "for category in Categories:\n",
    "    path = os.path.join(dir, category)   # path to cats and dogs dir\n",
    "    for img in os.listdir(path):  # npw iterate them throuhg all the images\n",
    "        img_array = cv2.imread(os.path.join(path,img), # Iamread\n",
    "        cv2.IMREAD_GRAYSCALE)  # convert everything to grey scale. RGB data is 3times the size of greyscale data\n",
    "        # this is to show the image\n",
    "        # plt.imshow(img_array, cmap='gray')  \n",
    "        # plt.show()\n",
    "        break\n",
    "    break\n",
    "\n",
    "def create_training_data():\n",
    "    for category in Categories:\n",
    "        path = os.path.join(dir, category)   # path to cats and dogs dir\n",
    "        # You can't give to a NN the label dog or cat ! you have to give him 1 or 0 ! so --> dog = 0, cat = 1\n",
    "        class_num = Categories.index(category)\n",
    "        for img in os.listdir(path):  # npw iterate them throuhg all the images\n",
    "            try:\n",
    "                img_array = cv2.imread(os.path.join(path,img), # Iamread\n",
    "                cv2.IMREAD_GRAYSCALE)  # convert everything to grey scale. RGB data is 3times the size of greyscale data\n",
    "                new_array = cv2.resize(img_array, (IMG_SIZE, IMG_SIZE))\n",
    "                # you append to the array the dataset turned into number and the class_num associated with it for each image\n",
    "                training_data.append([new_array, class_num])\n",
    "            except Exception as e:\n",
    "                pass\n",
    "\n",
    "create_training_data()\n",
    "\n",
    "print(len(training_data))\n",
    "        "
   ]
  },
  {
   "cell_type": "code",
   "execution_count": 13,
   "metadata": {},
   "outputs": [
    {
     "output_type": "execute_result",
     "data": {
      "text/plain": [
       "(0, 0)"
      ]
     },
     "metadata": {},
     "execution_count": 13
    }
   ],
   "source": [
    "cat_files = [fn for fn in dir if 'cat' in fn] \n",
    "dog_files = [fn for fn in dir if 'dog' in fn] \n",
    "len(cat_files), len(dog_files)"
   ]
  },
  {
   "cell_type": "code",
   "execution_count": null,
   "metadata": {},
   "outputs": [],
   "source": []
  }
 ]
}